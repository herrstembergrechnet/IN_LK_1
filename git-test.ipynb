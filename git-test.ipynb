{
 "cells": [
  {
   "cell_type": "markdown",
   "id": "a45e6089-5f7f-4d54-a200-5b0f740cea45",
   "metadata": {},
   "source": [
    "### Eine Überschrift ###\n"
   ]
  },
  {
   "cell_type": "code",
   "execution_count": null,
   "id": "8fd9bb43-18de-4bed-99b9-c3daff9a5bf7",
   "metadata": {},
   "outputs": [],
   "source": [
    "for i in range(1,7):\n",
    "    print(i)\n",
    "    "
   ]
  },
  {
   "cell_type": "raw",
   "id": "8d9553ff-7391-432e-be3c-23755dac4678",
   "metadata": {},
   "source": [
    "RAW Text"
   ]
  }
 ],
 "metadata": {
  "kernelspec": {
   "display_name": "Python 3 (ipykernel)",
   "language": "python",
   "name": "python3"
  },
  "language_info": {
   "codemirror_mode": {
    "name": "ipython",
    "version": 3
   },
   "file_extension": ".py",
   "mimetype": "text/x-python",
   "name": "python",
   "nbconvert_exporter": "python",
   "pygments_lexer": "ipython3",
   "version": "3.13.1"
  }
 },
 "nbformat": 4,
 "nbformat_minor": 5
}
